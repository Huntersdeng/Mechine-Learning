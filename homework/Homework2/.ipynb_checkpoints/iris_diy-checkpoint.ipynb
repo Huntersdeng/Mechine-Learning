{
 "cells": [
  {
   "cell_type": "code",
   "execution_count": 2,
   "metadata": {},
   "outputs": [],
   "source": [
    "import scipy.io as sio\n",
    "import numpy as np\n",
    "import matplotlib.pyplot as plt"
   ]
  },
  {
   "cell_type": "code",
   "execution_count": 3,
   "metadata": {},
   "outputs": [
    {
     "name": "stdout",
     "output_type": "stream",
     "text": [
      "shape of data is (150, 4)\n",
      "shape of labels is (150, 3)\n",
      "shape of train data is (120, 4)\n",
      "shape of train labels is (120, 3)\n",
      "shape of test data is (30, 4)\n",
      "shape of test labels is (30, 3)\n"
     ]
    }
   ],
   "source": [
    "load_fn = 'iris.mat'\n",
    "load_data = sio.loadmat(load_fn)\n",
    "# load_data is a dict with key named samples, labels, __globals__, __version__, __header__\n",
    "X = load_data['samples']\n",
    "X = X / 8\n",
    "y = load_data['labels']\n",
    "y_shape = load_data['labels'].shape\n",
    "X_shape = load_data['samples'].shape\n",
    "print('shape of data is',X_shape)\n",
    "print('shape of labels is',y_shape)\n",
    "X_train = X[0:int(X_shape[0]*0.8)]\n",
    "y_train = y[0:int(y_shape[0]*0.8)]\n",
    "X_test = X[int(X_shape[0]*0.8):]\n",
    "y_test = y[int(y_shape[0]*0.8):]\n",
    "print('shape of train data is',X_train.shape)\n",
    "print('shape of train labels is',y_train.shape)\n",
    "print('shape of test data is',X_test.shape)\n",
    "print('shape of test labels is',y_test.shape)"
   ]
  },
  {
   "cell_type": "code",
   "execution_count": 1,
   "metadata": {},
   "outputs": [],
   "source": [
    "def sigmoid(x):\n",
    "    return 1 / (1 + np.exp(-x))"
   ]
  },
  {
   "cell_type": "code",
   "execution_count": 20,
   "metadata": {},
   "outputs": [],
   "source": [
    "def softmax(Z):\n",
    "    return np.exp(Z)/np.sum(np.exp(Z))"
   ]
  },
  {
   "cell_type": "code",
   "execution_count": 22,
   "metadata": {},
   "outputs": [],
   "source": [
    "class iris:\n",
    "    def __init__(self, n_h):\n",
    "        self._h = n_h\n",
    "\n",
    "    def fit(self, X_train, y_train, learningrate, epochs):\n",
    "        input_shape = X_train.shape[1]\n",
    "        output_shape = y_train.shape[1]\n",
    "        m = X_train.shape[0]\n",
    "        # initialize all variables\n",
    "        W1 = np.random.randn(input_shape, self._h) * 0.01\n",
    "        b1 = np.zeros((1, self._h))\n",
    "        W2 = np.random.randn(self._h, output_shape) * 0.01\n",
    "        b2 = np.zeros((1, output_shape))\n",
    "\n",
    "        for i in range(epochs):\n",
    "            # forward propagation\n",
    "            Z1 = np.dot(X_train, W1) + b1\n",
    "            A = sigmoid(Z1)\n",
    "            Z2 = np.dot(A, W2) + b2\n",
    "\n",
    "            # loss function using crosstropy\n",
    "            loss = -np.sum(y_train*np.log(softmax(Z2)))/m\n",
    "            loss = np.squeeze(loss)\n",
    "\n",
    "            # back propagation\n",
    "            # To simplify the names of variables, use the denominator to represent the derivative \n",
    "            # For example, dx means dl/dx\n",
    "            dW2 = - np.dot(A.T, y_train/Z2) / m\n",
    "            db2 = -np.sum(y_train/Z2/m, axis=0) / m\n",
    "            db1 = np.dot(y_train/Z2, W2.T)*A*(1-A)\n",
    "            dW1 = -np.dot(X_train.T, \n",
    "                        db1) / m\n",
    "            db1 = -np.sum(db1, axis=0) / m\n",
    "\n",
    "            # update parameters\n",
    "            W2 = W2 - dW2 * learningrate\n",
    "            b2 = b2 - db2 * learningrate\n",
    "            W1 = W1 - dW1 * learningrate\n",
    "            b1 = b1 - db1 * learningrate\n",
    "\n",
    "            # print the loss\n",
    "            if i%10==0:\n",
    "                print (\"Cost after iteration %i: %f\" % (i, loss))"
   ]
  },
  {
   "cell_type": "code",
   "execution_count": 23,
   "metadata": {},
   "outputs": [],
   "source": [
    "model = iris(5)"
   ]
  },
  {
   "cell_type": "code",
   "execution_count": 24,
   "metadata": {},
   "outputs": [
    {
     "name": "stdout",
     "output_type": "stream",
     "text": [
      "Cost after iteration 0: 5.886152\n",
      "Cost after iteration 10: 5.892949\n",
      "Cost after iteration 20: 5.891820\n",
      "Cost after iteration 30: 5.891180\n",
      "Cost after iteration 40: 5.890788\n",
      "Cost after iteration 50: 5.890539\n",
      "Cost after iteration 60: 5.890382\n",
      "Cost after iteration 70: 5.890288\n",
      "Cost after iteration 80: 5.890241\n",
      "Cost after iteration 90: 5.890227\n",
      "Cost after iteration 100: 5.890241\n",
      "Cost after iteration 110: 5.890276\n",
      "Cost after iteration 120: 5.890329\n",
      "Cost after iteration 130: 5.890397\n",
      "Cost after iteration 140: 5.890478\n",
      "Cost after iteration 150: 5.890570\n",
      "Cost after iteration 160: 5.890672\n",
      "Cost after iteration 170: 5.890783\n",
      "Cost after iteration 180: 5.890902\n",
      "Cost after iteration 190: 5.891029\n",
      "Cost after iteration 200: 5.891162\n",
      "Cost after iteration 210: 5.891301\n",
      "Cost after iteration 220: 5.891447\n",
      "Cost after iteration 230: 5.891598\n",
      "Cost after iteration 240: 5.891755\n",
      "Cost after iteration 250: 5.891916\n",
      "Cost after iteration 260: 5.892082\n",
      "Cost after iteration 270: 5.892253\n",
      "Cost after iteration 280: 5.892428\n",
      "Cost after iteration 290: 5.892608\n",
      "Cost after iteration 300: 5.892791\n",
      "Cost after iteration 310: 5.892978\n",
      "Cost after iteration 320: 5.893169\n",
      "Cost after iteration 330: 5.893363\n",
      "Cost after iteration 340: 5.893561\n",
      "Cost after iteration 350: 5.893762\n",
      "Cost after iteration 360: 5.893966\n",
      "Cost after iteration 370: 5.894173\n",
      "Cost after iteration 380: 5.894383\n",
      "Cost after iteration 390: 5.894596\n",
      "Cost after iteration 400: 5.894811\n",
      "Cost after iteration 410: 5.895029\n",
      "Cost after iteration 420: 5.895249\n",
      "Cost after iteration 430: 5.895472\n",
      "Cost after iteration 440: 5.895697\n",
      "Cost after iteration 450: 5.895925\n",
      "Cost after iteration 460: 5.896154\n",
      "Cost after iteration 470: 5.896385\n",
      "Cost after iteration 480: 5.896618\n",
      "Cost after iteration 490: 5.896853\n",
      "Cost after iteration 500: 5.897090\n",
      "Cost after iteration 510: 5.897328\n",
      "Cost after iteration 520: 5.897568\n",
      "Cost after iteration 530: 5.897810\n",
      "Cost after iteration 540: 5.898052\n",
      "Cost after iteration 550: 5.898296\n",
      "Cost after iteration 560: 5.898542\n",
      "Cost after iteration 570: 5.898788\n",
      "Cost after iteration 580: 5.899036\n",
      "Cost after iteration 590: 5.899284\n",
      "Cost after iteration 600: 5.899534\n",
      "Cost after iteration 610: 5.899784\n",
      "Cost after iteration 620: 5.900036\n",
      "Cost after iteration 630: 5.900288\n",
      "Cost after iteration 640: 5.900541\n",
      "Cost after iteration 650: 5.900794\n",
      "Cost after iteration 660: 5.901048\n",
      "Cost after iteration 670: 5.901303\n",
      "Cost after iteration 680: 5.901558\n",
      "Cost after iteration 690: 5.901814\n",
      "Cost after iteration 700: 5.902070\n",
      "Cost after iteration 710: 5.902327\n",
      "Cost after iteration 720: 5.902583\n",
      "Cost after iteration 730: 5.902840\n",
      "Cost after iteration 740: 5.903098\n",
      "Cost after iteration 750: 5.903355\n",
      "Cost after iteration 760: 5.903613\n",
      "Cost after iteration 770: 5.903870\n",
      "Cost after iteration 780: 5.904128\n",
      "Cost after iteration 790: 5.904386\n",
      "Cost after iteration 800: 5.904644\n",
      "Cost after iteration 810: 5.904902\n",
      "Cost after iteration 820: 5.905159\n",
      "Cost after iteration 830: 5.905417\n",
      "Cost after iteration 840: 5.905675\n",
      "Cost after iteration 850: 5.905932\n",
      "Cost after iteration 860: 5.906189\n",
      "Cost after iteration 870: 5.906446\n",
      "Cost after iteration 880: 5.906703\n",
      "Cost after iteration 890: 5.906959\n",
      "Cost after iteration 900: 5.907215\n",
      "Cost after iteration 910: 5.907471\n",
      "Cost after iteration 920: 5.907727\n",
      "Cost after iteration 930: 5.907982\n",
      "Cost after iteration 940: 5.908237\n",
      "Cost after iteration 950: 5.908491\n",
      "Cost after iteration 960: 5.908746\n",
      "Cost after iteration 970: 5.908999\n",
      "Cost after iteration 980: 5.909252\n",
      "Cost after iteration 990: 5.909505\n"
     ]
    }
   ],
   "source": [
    "model.fit(X_train, y_train, 0.01, 1000)"
   ]
  },
  {
   "cell_type": "code",
   "execution_count": 8,
   "metadata": {},
   "outputs": [
    {
     "data": {
      "text/plain": [
       "array([0.9625, 0.35  , 0.8375, 0.25  ])"
      ]
     },
     "execution_count": 8,
     "metadata": {},
     "output_type": "execute_result"
    }
   ],
   "source": [
    "m = X_train[0]\n",
    "m"
   ]
  },
  {
   "cell_type": "code",
   "execution_count": 5,
   "metadata": {},
   "outputs": [
    {
     "data": {
      "text/plain": [
       "matrix([[ 0,  1,  4],\n",
       "        [ 9, 16, 25]])"
      ]
     },
     "execution_count": 5,
     "metadata": {},
     "output_type": "execute_result"
    }
   ],
   "source": [
    "a = np.arange(6).reshape(2,3)\n",
    "b = np.multiply(np.mat(a), np.mat(a))\n",
    "b"
   ]
  },
  {
   "cell_type": "code",
   "execution_count": 21,
   "metadata": {},
   "outputs": [
    {
     "data": {
      "text/plain": [
       "array([[0.00426978, 0.01160646, 0.03154963],\n",
       "       [0.08576079, 0.23312201, 0.63369132]])"
      ]
     },
     "execution_count": 21,
     "metadata": {},
     "output_type": "execute_result"
    }
   ],
   "source": [
    "softmax(a)"
   ]
  },
  {
   "cell_type": "code",
   "execution_count": 28,
   "metadata": {},
   "outputs": [
    {
     "data": {
      "text/plain": [
       "((1, 3), (3,))"
      ]
     },
     "execution_count": 28,
     "metadata": {},
     "output_type": "execute_result"
    }
   ],
   "source": [
    "b1 = np.zeros((1, 3))\n",
    "b2 = np.array([1,2,3])\n",
    "b1.shape, b2.shape"
   ]
  },
  {
   "cell_type": "code",
   "execution_count": 32,
   "metadata": {},
   "outputs": [
    {
     "data": {
      "text/plain": [
       "(1, 3)"
      ]
     },
     "execution_count": 32,
     "metadata": {},
     "output_type": "execute_result"
    }
   ],
   "source": [
    "b3 = b1+b2\n",
    "b3.shape"
   ]
  },
  {
   "cell_type": "code",
   "execution_count": 33,
   "metadata": {},
   "outputs": [],
   "source": [
    "def sigmoid(x):\n",
    "    return 1 / (1 + np.exp(-x))"
   ]
  },
  {
   "cell_type": "code",
   "execution_count": 36,
   "metadata": {},
   "outputs": [
    {
     "data": {
      "text/plain": [
       "0.5"
      ]
     },
     "execution_count": 36,
     "metadata": {},
     "output_type": "execute_result"
    }
   ],
   "source": [
    "a = sigmoid(0)\n",
    "a\n"
   ]
  },
  {
   "cell_type": "code",
   "execution_count": 9,
   "metadata": {},
   "outputs": [],
   "source": [
    "def softmax(Z):\n",
    "    return np.exp(Z)/np.sum(np.exp(Z),axis=0)"
   ]
  },
  {
   "cell_type": "code",
   "execution_count": 3,
   "metadata": {},
   "outputs": [
    {
     "data": {
      "text/plain": [
       "array([0.09003057, 0.24472847, 0.66524096])"
      ]
     },
     "execution_count": 3,
     "metadata": {},
     "output_type": "execute_result"
    }
   ],
   "source": [
    "a = (1,2,3)\n",
    "softmax(a)"
   ]
  },
  {
   "cell_type": "code",
   "execution_count": 5,
   "metadata": {},
   "outputs": [
    {
     "data": {
      "text/plain": [
       "array([0.00235563, 0.04731416, 0.95033021])"
      ]
     },
     "execution_count": 5,
     "metadata": {},
     "output_type": "execute_result"
    }
   ],
   "source": [
    "b = (-1,2,5)\n",
    "softmax(b)"
   ]
  },
  {
   "cell_type": "code",
   "execution_count": 7,
   "metadata": {},
   "outputs": [
    {
     "data": {
      "text/plain": [
       "array([[ 1,  2,  3],\n",
       "       [-1,  2,  5]])"
      ]
     },
     "execution_count": 7,
     "metadata": {},
     "output_type": "execute_result"
    }
   ],
   "source": [
    "c = np.array([[1,2,3],\n",
    "              [-1,2,5]])\n",
    "c"
   ]
  },
  {
   "cell_type": "code",
   "execution_count": 12,
   "metadata": {},
   "outputs": [
    {
     "data": {
      "text/plain": [
       "array([[  2.71828183,   7.3890561 ,  20.08553692],\n",
       "       [  0.36787944,   7.3890561 , 148.4131591 ]])"
      ]
     },
     "execution_count": 12,
     "metadata": {},
     "output_type": "execute_result"
    }
   ],
   "source": [
    "np.exp(c)"
   ]
  },
  {
   "cell_type": "code",
   "execution_count": 19,
   "metadata": {},
   "outputs": [
    {
     "data": {
      "text/plain": [
       "array([[0.09003057, 0.24472847, 0.66524096],\n",
       "       [0.00235563, 0.04731416, 0.95033021]])"
      ]
     },
     "execution_count": 19,
     "metadata": {},
     "output_type": "execute_result"
    }
   ],
   "source": [
    "np.exp(c)/np.sum(np.exp(c), axis=1).reshape(2,1)"
   ]
  },
  {
   "cell_type": "code",
   "execution_count": 3,
   "metadata": {},
   "outputs": [
    {
     "data": {
      "text/plain": [
       "array([[0.65, 0.43, 0.11],\n",
       "       [0.05, 0.51, 0.18],\n",
       "       [0.33, 0.21, 0.72]])"
      ]
     },
     "execution_count": 3,
     "metadata": {},
     "output_type": "execute_result"
    }
   ],
   "source": [
    "y_hat = np.array([[0.65, 0.43, 0.11],\n",
    "               [0.05, 0.51, 0.18],\n",
    "               [0.33, 0.21, 0.72]])\n",
    "y_hat"
   ]
  },
  {
   "cell_type": "code",
   "execution_count": 4,
   "metadata": {},
   "outputs": [
    {
     "data": {
      "text/plain": [
       "array([[1, 0, 0],\n",
       "       [0, 1, 0],\n",
       "       [0, 0, 1]])"
      ]
     },
     "execution_count": 4,
     "metadata": {},
     "output_type": "execute_result"
    }
   ],
   "source": [
    "y = np.array([[1,0,0],\n",
    "              [0,1,0],\n",
    "              [0,0,1]])\n",
    "y"
   ]
  },
  {
   "cell_type": "code",
   "execution_count": 6,
   "metadata": {},
   "outputs": [],
   "source": [
    "def softmax(Z):\n",
    "    m = Z.shape[0]\n",
    "    return np.exp(Z)/np.sum(np.exp(Z),axis=1).reshape(m,1)"
   ]
  },
  {
   "cell_type": "code",
   "execution_count": null,
   "metadata": {
    "collapsed": true
   },
   "outputs": [],
   "source": []
  },
  {
   "cell_type": "code",
   "execution_count": 5,
   "metadata": {},
   "outputs": [
    {
     "data": {
      "text/plain": [
       "1.4326315363282558"
      ]
     },
     "execution_count": 5,
     "metadata": {},
     "output_type": "execute_result"
    }
   ],
   "source": [
    "-np.sum(y*np.log(y_hat))"
   ]
  },
  {
   "cell_type": "code",
   "execution_count": null,
   "metadata": {},
   "outputs": [],
   "source": []
  }
 ],
 "metadata": {
  "kernelspec": {
   "display_name": "Python 3",
   "language": "python",
   "name": "python3"
  },
  "language_info": {
   "codemirror_mode": {
    "name": "ipython",
    "version": 3
   },
   "file_extension": ".py",
   "mimetype": "text/x-python",
   "name": "python",
   "nbconvert_exporter": "python",
   "pygments_lexer": "ipython3",
   "version": "3.7.0"
  }
 },
 "nbformat": 4,
 "nbformat_minor": 2
}
