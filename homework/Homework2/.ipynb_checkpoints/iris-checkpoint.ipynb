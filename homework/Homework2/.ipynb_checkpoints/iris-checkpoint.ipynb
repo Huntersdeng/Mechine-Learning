{
 "cells": [
  {
   "cell_type": "code",
   "execution_count": 81,
   "metadata": {},
   "outputs": [
    {
     "data": {
      "text/plain": [
       "'1.11.0'"
      ]
     },
     "execution_count": 81,
     "metadata": {},
     "output_type": "execute_result"
    }
   ],
   "source": [
    "import scipy.io as sio\n",
    "import numpy as np\n",
    "import tensorflow as tf\n",
    "import matplotlib.pyplot as plt\n",
    "tf.__version__"
   ]
  },
  {
   "cell_type": "code",
   "execution_count": 77,
   "metadata": {},
   "outputs": [
    {
     "name": "stdout",
     "output_type": "stream",
     "text": [
      "shape of data is (150, 4)\n",
      "shape of labels is (150, 3)\n",
      "shape of train data is (120, 4)\n",
      "shape of train labels is (120, 3)\n",
      "shape of test data is (30, 4)\n",
      "shape of test labels is (30, 3)\n"
     ]
    }
   ],
   "source": [
    "load_fn = 'iris.mat'\n",
    "load_data = sio.loadmat(load_fn)\n",
    "# load_data is a dict with key named samples, labels, __globals__, __version__, __header__\n",
    "X = load_data['samples']\n",
    "y = load_data['labels']\n",
    "y_shape = load_data['labels'].shape\n",
    "X_shape = load_data['samples'].shape\n",
    "print('shape of data is',X_shape)\n",
    "print('shape of labels is',y_shape)\n",
    "X_train = X[0:int(X_shape[0]*0.8)]\n",
    "y_train = y[0:int(y_shape[0]*0.8)]\n",
    "X_test = X[int(X_shape[0]*0.8):]\n",
    "y_test = y[int(y_shape[0]*0.8):]\n",
    "print('shape of train data is',X_train.shape)\n",
    "print('shape of train labels is',y_train.shape)\n",
    "print('shape of test data is',X_test.shape)\n",
    "print('shape of test labels is',y_test.shape)"
   ]
  },
  {
   "cell_type": "code",
   "execution_count": 106,
   "metadata": {},
   "outputs": [],
   "source": [
    "class iris():\n",
    "    def __init__(self):\n",
    "        pass\n",
    "    \n",
    "    def train(self, X_train, y_train, X_test, y_test, n_h, activate, learningrate=0.01, iteration = 100, save_print=True):\n",
    "        np.random.seed(0)\n",
    "        out = open('result', 'a')\n",
    "        m_x = X_train.shape[1]\n",
    "        n = X_train.shape[0]\n",
    "        m_y = y_train.shape[1]\n",
    "        n_output = 3\n",
    "        train_costs = [] # a list to store the cost in every iterations\n",
    "        test_costs = []\n",
    "        # define the placeholder\n",
    "        X = tf.placeholder(tf.float64, shape=(None, m_x), name='input_data')\n",
    "        y = tf.placeholder(tf.int32, shape=(None, m_y), name='input_label')\n",
    "\n",
    "        # initialize the parameters\n",
    "        W1 = tf.Variable(np.random.randn(m_x, n_h)*0.01, name='W1', dtype=tf.float64)\n",
    "        b1 = tf.Variable(0, dtype=tf.float64, name='b1')\n",
    "        W2 = tf.Variable(np.random.randn(n_h, n_output)*0.01, name='W2', dtype=tf.float64)\n",
    "        b2 = tf.Variable(0, dtype=tf.float64, name='b2')\n",
    "\n",
    "        Z1 = tf.add(tf.matmul(X, W1), b1, name='Z1')\n",
    "        if activate=='relu':\n",
    "            A1 = tf.nn.relu(Z1, name='A1')\n",
    "        if activate=='sigmoid':\n",
    "            A1 = tf.nn.sigmoid(Z1, name='A1')\n",
    "        if activate=='tanh':\n",
    "            A1 = tf.nn.tanh(Z1, name='A1')\n",
    "        Z2 = tf.add(tf.matmul(A1, W2), b2, name='Z2')\n",
    "        y_predict = tf.nn.softmax(Z2)\n",
    "\n",
    "        optimizer = tf.train.GradientDescentOptimizer(learningrate)\n",
    "        loss = tf.reduce_mean(tf.losses.softmax_cross_entropy(y, Z2))\n",
    "        train = optimizer.minimize(loss)\n",
    "\n",
    "        init = tf.global_variables_initializer()\n",
    "        \n",
    "        correct_prediction = tf.equal(tf.argmax(y_predict,axis=1), tf.argmax(y,axis=1))\n",
    "            \n",
    "        accuracy = tf.reduce_mean(tf.cast(correct_prediction, \"float\"))\n",
    "\n",
    "        with tf.Session() as sess:\n",
    "            sess.run(init)\n",
    "            for i in range(iteration):\n",
    "                train_cost, _ = sess.run([loss, train], feed_dict={X:X_train, y:y_train})\n",
    "                test_cost, _ = sess.run([loss, train], feed_dict={X:X_test, y:y_test})\n",
    "                # Print the cost every iteration\n",
    "                if i % 1000 == 0:\n",
    "                    print (\"Cost after iteration %i: %f\" % (i, train_cost))\n",
    "                if i%5 == 0:\n",
    "                    train_costs.append(train_cost)\n",
    "                    test_costs.append(test_cost)\n",
    "            plt.plot(np.squeeze(train_costs),color='red',label='training cost')\n",
    "            plt.plot(np.squeeze(test_costs),color='blue',label='testing cost')\n",
    "            plt.ylabel('cost')\n",
    "            plt.xlabel('iterations')\n",
    "            plt.title(\"Learning rate =\" + str(learningrate))\n",
    "            plt.legend(loc='upper right')\n",
    "            plt.show()\n",
    "#             print(Z2.eval({X: X_train, y: y_train}))\n",
    "#             print(tf.argmax(Z2,axis=1).eval({X: X_train, y: y_train}))\n",
    "            print('The accuracy with activated function %s, hidden unit %i, learning rate %.3f'%(activate, n_h,learningrate))\n",
    "            print(\"Train Accuracy:\", accuracy.eval({X: X_train, y: y_train}))\n",
    "            print(\"Test Accuracy:\", accuracy.eval({X: X_test, y: y_test}))\n",
    "            print('The accuracy with activated function %s, hidden unit %i, learning rate %.3f'%(activate, n_h,learningrate), file=out)\n",
    "            print(\"Train Accuracy:\", accuracy.eval({X: X_train, y: y_train}), file=out)\n",
    "            print(\"Test Accuracy:\", accuracy.eval({X: X_test, y: y_test}), file=out)\n",
    "            "
   ]
  },
  {
   "cell_type": "code",
   "execution_count": 108,
   "metadata": {},
   "outputs": [
    {
     "name": "stdout",
     "output_type": "stream",
     "text": [
      "Cost after iteration 0: 1.098121\n",
      "Cost after iteration 1000: 0.794525\n",
      "Cost after iteration 2000: 0.506598\n",
      "Cost after iteration 3000: 0.399284\n",
      "Cost after iteration 4000: 0.303803\n",
      "Cost after iteration 5000: 0.235368\n",
      "Cost after iteration 6000: 0.188800\n",
      "Cost after iteration 7000: 0.157584\n",
      "Cost after iteration 8000: 0.136475\n",
      "Cost after iteration 9000: 0.121759\n"
     ]
    },
    {
     "data": {
      "image/png": "[encoded data removed]",
      "text/plain": [
       "<Figure size 432x288 with 1 Axes>"
      ]
     },
     "metadata": {
      "needs_background": "light"
     },
     "output_type": "display_data"
    },
    {
     "name": "stdout",
     "output_type": "stream",
     "text": [
      "The accuracy with activated function sigmoid, hidden unit 5, learning rate 0.010\n",
      "Train Accuracy: 0.98333335\n",
      "Test Accuracy: 1.0\n"
     ]
    }
   ],
   "source": [
    "model = iris()\n",
    "model.train(X_train, y_train, X_test, y_test, 5, 'sigmoid', 0.01, 10000)"
   ]
  },
  {
   "cell_type": "code",
   "execution_count": 34,
   "metadata": {},
   "outputs": [
    {
     "data": {
      "text/plain": [
       "array([[1, 0, 0],\n",
       "       [0, 0, 1],\n",
       "       [1, 0, 0],\n",
       "       [0, 0, 1],\n",
       "       [0, 1, 0],\n",
       "       [0, 1, 0],\n",
       "       [1, 0, 0],\n",
       "       [0, 0, 1],\n",
       "       [0, 0, 1],\n",
       "       [0, 0, 1],\n",
       "       [0, 1, 0],\n",
       "       [1, 0, 0],\n",
       "       [0, 0, 1],\n",
       "       [0, 0, 1],\n",
       "       [1, 0, 0],\n",
       "       [1, 0, 0],\n",
       "       [0, 1, 0],\n",
       "       [0, 1, 0],\n",
       "       [1, 0, 0],\n",
       "       [0, 1, 0],\n",
       "       [1, 0, 0],\n",
       "       [1, 0, 0],\n",
       "       [1, 0, 0],\n",
       "       [0, 1, 0],\n",
       "       [1, 0, 0],\n",
       "       [0, 1, 0],\n",
       "       [0, 0, 1],\n",
       "       [1, 0, 0],\n",
       "       [1, 0, 0],\n",
       "       [0, 0, 1]], dtype=uint8)"
      ]
     },
     "execution_count": 34,
     "metadata": {},
     "output_type": "execute_result"
    }
   ],
   "source": [
    "y_test"
   ]
  },
  {
   "cell_type": "code",
   "execution_count": 35,
   "metadata": {},
   "outputs": [
    {
     "ename": "NameError",
     "evalue": "name 'y_predict' is not defined",
     "output_type": "error",
     "traceback": [
      "\u001b[0;31m---------------------------------------------------------------------------\u001b[0m",
      "\u001b[0;31mNameError\u001b[0m                                 Traceback (most recent call last)",
      "\u001b[0;32m<ipython-input-35-67b1e797cccd>\u001b[0m in \u001b[0;36m<module>\u001b[0;34m\u001b[0m\n\u001b[0;32m----> 1\u001b[0;31m \u001b[0my_predict\u001b[0m\u001b[0;34m\u001b[0m\u001b[0m\n\u001b[0m",
      "\u001b[0;31mNameError\u001b[0m: name 'y_predict' is not defined"
     ]
    }
   ],
   "source": []
  },
  {
   "cell_type": "code",
   "execution_count": null,
   "metadata": {},
   "outputs": [],
   "source": []
  }
 ],
 "metadata": {
  "kernelspec": {
   "display_name": "Python 3",
   "language": "python",
   "name": "python3"
  },
  "language_info": {
   "codemirror_mode": {
    "name": "ipython",
    "version": 3
   },
   "file_extension": ".py",
   "mimetype": "text/x-python",
   "name": "python",
   "nbconvert_exporter": "python",
   "pygments_lexer": "ipython3",
   "version": "3.6.6"
  }
 },
 "nbformat": 4,
 "nbformat_minor": 2
}
