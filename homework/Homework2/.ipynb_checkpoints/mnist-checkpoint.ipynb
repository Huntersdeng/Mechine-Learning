{
 "cells": [
  {
   "cell_type": "code",
   "execution_count": 1,
   "metadata": {},
   "outputs": [
    {
     "data": {
      "text/plain": [
       "'1.11.0'"
      ]
     },
     "execution_count": 1,
     "metadata": {},
     "output_type": "execute_result"
    }
   ],
   "source": [
    "import scipy.io as sio\n",
    "import numpy as np\n",
    "from random import shuffle   \n",
    "import tensorflow as tf\n",
    "import matplotlib.pyplot as plt\n",
    "import tensorflow.keras as K\n",
    "tf.__version__"
   ]
  },
  {
   "cell_type": "code",
   "execution_count": 2,
   "metadata": {},
   "outputs": [
    {
     "name": "stdout",
     "output_type": "stream",
     "text": [
      "shape of data is (70000, 784)\n",
      "shape of labels is (70000, 1)\n",
      "shape of train data is (60000, 28, 28, 1)\n",
      "shape of train labels is (60000, 10)\n",
      "shape of test data is (10000, 28, 28, 1)\n",
      "shape of test labels is (10000, 10)\n"
     ]
    },
    {
     "data": {
      "image/png": "[encoded data removed]",
      "text/plain": [
       "<Figure size 432x288 with 1 Axes>"
      ]
     },
     "metadata": {
      "needs_background": "light"
     },
     "output_type": "display_data"
    }
   ],
   "source": [
    "load_fn = 'MNIST.mat'\n",
    "load_data = sio.loadmat(load_fn)\n",
    "X = load_data['fea']\n",
    "y = load_data['gnd']\n",
    "x = X[0].reshape(28,28) # 变换成28x28的矩阵\n",
    "plt.imshow(x) #显示图像\n",
    "print('shape of data is',X.shape)\n",
    "print('shape of labels is',y.shape)\n",
    "data = np.concatenate((X, y),axis=1)\n",
    "shuffle(data)\n",
    "X = data[:,0:784]\n",
    "X = X / 255\n",
    "y = (np.arange(10)==data[:,-1][:,None]).astype(np.integer) \n",
    "X_train = X[0:60000].reshape(60000,28,28,1)\n",
    "y_train = y[0:60000]\n",
    "X_test = X[60000:].reshape(10000,28,28,1)\n",
    "y_test = y[60000:]\n",
    "print('shape of train data is',X_train.shape)\n",
    "print('shape of train labels is',y_train.shape)\n",
    "print('shape of test data is',X_test.shape)\n",
    "print('shape of test labels is',y_test.shape)"
   ]
  },
  {
   "cell_type": "code",
   "execution_count": 3,
   "metadata": {},
   "outputs": [],
   "source": [
    "def mnist(input_shape):\n",
    "    X_input = K.Input(input_shape)\n",
    "\n",
    "    X = K.layers.Conv2D(filters=32, kernel_size=(2,2), activation='relu', kernel_initializer=tf.contrib.layers.xavier_initializer())(X_input)\n",
    "    X = K.layers.MaxPooling2D(pool_size=(2, 2), strides=(2, 2), padding='valid')(X)\n",
    "    X = K.layers.Conv2D(filters=64, kernel_size=(3,3), strides=(2,2),activation='relu', kernel_initializer=tf.contrib.layers.xavier_initializer())(X)\n",
    "    X = K.layers.MaxPool2D(pool_size=(2,2))(X)\n",
    "    X = K.layers.Flatten()(X)\n",
    "    X = K.layers.Dense(1024, activation='relu')(X)\n",
    "    X = K.layers.Dropout(0.6)(X)\n",
    "    X = K.layers.Dense(10, activation='softmax')(X)\n",
    "    model = K.Model(inputs = X_input, outputs = X, name='mnist')\n",
    "    return model"
   ]
  },
  {
   "cell_type": "code",
   "execution_count": 8,
   "metadata": {},
   "outputs": [],
   "source": [
    "model = mnist(X_train.shape[1:])\n",
    "model.compile(optimizer='adam', loss='categorical_crossentropy', metrics=['accuracy'])\n",
    "train_costs = []\n",
    "train_accuracy = []\n",
    "test_costs = []\n",
    "test_accuracy = []"
   ]
  },
  {
   "cell_type": "code",
   "execution_count": 9,
   "metadata": {},
   "outputs": [
    {
     "name": "stdout",
     "output_type": "stream",
     "text": [
      "_________________________________________________________________\n",
      "Layer (type)                 Output Shape              Param #   \n",
      "=================================================================\n",
      "input_2 (InputLayer)         (None, 28, 28, 1)         0         \n",
      "_________________________________________________________________\n",
      "conv2d_2 (Conv2D)            (None, 27, 27, 32)        160       \n",
      "_________________________________________________________________\n",
      "max_pooling2d_2 (MaxPooling2 (None, 13, 13, 32)        0         \n",
      "_________________________________________________________________\n",
      "conv2d_3 (Conv2D)            (None, 6, 6, 64)          18496     \n",
      "_________________________________________________________________\n",
      "max_pooling2d_3 (MaxPooling2 (None, 3, 3, 64)          0         \n",
      "_________________________________________________________________\n",
      "flatten_1 (Flatten)          (None, 576)               0         \n",
      "_________________________________________________________________\n",
      "dense_2 (Dense)              (None, 1024)              590848    \n",
      "_________________________________________________________________\n",
      "dropout_1 (Dropout)          (None, 1024)              0         \n",
      "_________________________________________________________________\n",
      "dense_3 (Dense)              (None, 10)                10250     \n",
      "=================================================================\n",
      "Total params: 619,754\n",
      "Trainable params: 619,754\n",
      "Non-trainable params: 0\n",
      "_________________________________________________________________\n"
     ]
    }
   ],
   "source": [
    "model.summary()"
   ]
  },
  {
   "cell_type": "code",
   "execution_count": 11,
   "metadata": {},
   "outputs": [
    {
     "name": "stdout",
     "output_type": "stream",
     "text": [
      "Epoch 1/1\n",
      "60000/60000 [==============================] - 35s 575us/step - loss: 0.0131 - acc: 0.9954\n",
      "60000/60000 [==============================] - 10s 165us/step\n",
      "10000/10000 [==============================] - 2s 153us/step\n",
      "Test accuracy: 0.9925\n",
      "Train accuracy: 0.9993666666666666\n",
      "Test accuracy: 0.9925\n"
     ]
    },
    {
     "data": {
      "image/png": "[encoded data removed]",
      "text/plain": [
       "<Figure size 432x288 with 1 Axes>"
      ]
     },
     "metadata": {
      "needs_background": "light"
     },
     "output_type": "display_data"
    },
    {
     "data": {
      "image/png": "[encoded data removed]",
      "text/plain": [
       "<Figure size 432x288 with 1 Axes>"
      ]
     },
     "metadata": {
      "needs_background": "light"
     },
     "output_type": "display_data"
    }
   ],
   "source": [
    "for i in range(1):\n",
    "    model.fit(X_train, y_train, batch_size=64, callbacks=[TensorBoard(log_dir='./tmp/log')])\n",
    "    train_loss, train_acc = model.evaluate(X_train, y_train, batch_size=64)\n",
    "    train_costs.append(train_loss)\n",
    "    train_accuracy.append(train_acc)\n",
    "    test_loss, test_acc = model.evaluate(X_test, y_test, batch_size=64)\n",
    "    print('Test accuracy:',test_acc)\n",
    "    test_costs.append(test_loss)\n",
    "    test_accuracy.append(test_acc)\n",
    "#model.save_weights('model_weight.h5')\n",
    "print('Train accuracy:', train_acc)\n",
    "print('Test accuracy:',test_acc)\n",
    "\n",
    "plt.plot(np.squeeze(train_costs),color='red',label='training cost')\n",
    "plt.plot(np.squeeze(test_costs),color='blue',label='testing cost')\n",
    "plt.ylabel('cost')\n",
    "plt.xlabel('iterations')\n",
    "plt.title('Change of cost')\n",
    "plt.legend(loc='upper right')\n",
    "plt.savefig('cost_mnist.png')\n",
    "plt.show()\n",
    "\n",
    "plt.plot(np.squeeze(train_accuracy),color='red',label='training accuracy')\n",
    "plt.plot(np.squeeze(test_accuracy),color='blue',label='testing accuracy')\n",
    "plt.ylabel('accuracy')\n",
    "plt.xlabel('iterations')\n",
    "plt.title('Change of accuracy')\n",
    "\n",
    "plt.legend(loc='lower right')\n",
    "plt.savefig('accuracy_mnist.png')\n",
    "plt.show()"
   ]
  },
  {
   "cell_type": "code",
   "execution_count": 6,
   "metadata": {},
   "outputs": [
    {
     "name": "stdout",
     "output_type": "stream",
     "text": [
      "10000/10000 [==============================] - 2s 216us/step\n",
      "Test accuracy: 0.9923\n"
     ]
    }
   ],
   "source": [
    "model.load_weights('model_weight_normal.h5')\n",
    "test_loss, test_acc = model.evaluate(X_test, y_test, batch_size=64)\n",
    "print('Test accuracy:',test_acc)"
   ]
  },
  {
   "cell_type": "code",
   "execution_count": 13,
   "metadata": {},
   "outputs": [],
   "source": [
    "writer=tf.summary.FileWriter('/',tf.get_default_graph())"
   ]
  },
  {
   "cell_type": "code",
   "execution_count": 14,
   "metadata": {},
   "outputs": [],
   "source": [
    "writer.close()"
   ]
  },
  {
   "cell_type": "code",
   "execution_count": null,
   "metadata": {},
   "outputs": [],
   "source": []
  }
 ],
 "metadata": {
  "kernelspec": {
   "display_name": "Python 3",
   "language": "python",
   "name": "python3"
  },
  "language_info": {
   "codemirror_mode": {
    "name": "ipython",
    "version": 3
   },
   "file_extension": ".py",
   "mimetype": "text/x-python",
   "name": "python",
   "nbconvert_exporter": "python",
   "pygments_lexer": "ipython3",
   "version": "3.6.6"
  }
 },
 "nbformat": 4,
 "nbformat_minor": 2
}
